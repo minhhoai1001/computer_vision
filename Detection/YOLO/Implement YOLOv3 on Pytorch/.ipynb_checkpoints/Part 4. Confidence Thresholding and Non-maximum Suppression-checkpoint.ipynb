{
 "cells": [
  {
   "cell_type": "markdown",
   "metadata": {},
   "source": [
    "# 4. Ngưỡng tin cậy và mức triệt tiêu không tối đa (Non-maximum Suppression)\n",
    "Trong các phần trước, chúng tôi đã xây dựng một mô hình phát hiện đối tượng với một hình ảnh đầu vào. Nói một cách chính xác, đầu ra của chúng ta là một tensor có kích thước $B x 10647 x 85$. $B$ là số hình ảnh trong một batch, $10647$ là số hộp giới hạn được dự đoán trên mỗi hình ảnh và $85$ là số thuộc tính hộp giới hạn.\n",
    "\n",
    "Tuy nhiên, như mô tả trong phần 1, chúng ta phải đặt đầu ra của mình theo ngưỡng điểm đối tượng và *triệt tiêu không tối đa* (**Non-maximum Suppression**), để có được những gì tôi sẽ gọi trong phần còn lại của bài đăng này là phát hiện đúng. Để làm điều đó, chúng tôi sẽ tạo một hàm có tên là `write_results` trong tệp tin `use.py`."
   ]
  },
  {
   "cell_type": "markdown",
   "metadata": {},
   "source": [
    "```\n",
    "def write_results(prediction, confidence, num_classes, nms_conf = 0.4):\n",
    "```"
   ]
  },
  {
   "cell_type": "markdown",
   "metadata": {},
   "source": [
    "Các hàm nhận đầu vào là dự đoán, độ tin cậy (ngưỡng điểm của đối tượng), `num_classes` (trong trường hợp của chúng tôi là 80) và `nms_conf` (ngưỡng NMS IoU)."
   ]
  },
  {
   "cell_type": "markdown",
   "metadata": {},
   "source": [
    "## 4.1 Ngưỡng tin cậy đối tượng\n",
    "\n",
    "Dự đoán của chúng tôi chứa thông tin về các hộp giới hạn $B x 10647$. Đối với mỗi hộp giới hạn có điểm đối tượng dưới ngưỡng, chúng tôi đặt các giá trị của mọi thuộc tính của nó (toàn bộ hàng đại diện cho hộp giới hạn) thành 0."
   ]
  },
  {
   "cell_type": "markdown",
   "metadata": {},
   "source": [
    "```\n",
    "conf_mask = (prediction[:,:,4] > confidence).float().unsqueeze(2)\n",
    "prediction = prediction*conf_mask\n",
    "```"
   ]
  },
  {
   "cell_type": "markdown",
   "metadata": {},
   "source": [
    "## 4.2 Thực hiện ngăn chặn không tối đa\n",
    "\n",
    "   >Lưu ý: Tôi giả sử bạn hiểu **IoU** (Giao nhau qua liên hiệp) là gì và **Non-maximun Suppression**. Nếu không phải như vậy, hãy tham khảo các liên kết ở cuối bài viết).\n",
    "\n",
    "Các thuộc tính hộp giới hạn mà chúng ta có bây giờ được mô tả bằng tọa độ trung tâm, cũng như chiều cao và chiều rộng của hộp giới hạn. Tuy nhiên, sẽ dễ dàng hơn để tính IoU của hai hộp, sử dụng tọa độ của một cặp góc chéo của mỗi hộp. Vì vậy, chúng tôi biến đổi các thuộc tính (**center x, center y, height, width**) của các hộp của chúng tôi thành (**góc trên bên trái x, góc trên bên trái y, góc dưới cùng bên phải x, góc dưới cùng bên phải y**)."
   ]
  },
  {
   "cell_type": "markdown",
   "metadata": {},
   "source": [
    "```\n",
    "    box_corner = prediction.new(prediction.shape)\n",
    "    box_corner[:,:,0] = (prediction[:,:,0] - prediction[:,:,2]/2)\n",
    "    box_corner[:,:,1] = (prediction[:,:,1] - prediction[:,:,3]/2)\n",
    "    box_corner[:,:,2] = (prediction[:,:,0] + prediction[:,:,2]/2) \n",
    "    box_corner[:,:,3] = (prediction[:,:,1] + prediction[:,:,3]/2)\n",
    "    prediction[:,:,:4] = box_corner[:,:,:4]\n",
    "```"
   ]
  },
  {
   "cell_type": "markdown",
   "metadata": {},
   "source": [
    "Số lượng phát hiện thực trong mỗi hình ảnh có thể khác nhau. Ví dụ: batch thước 3 trong đó hình ảnh 1, 2 và 3 có 5, 2, 4 phát hiện đúng tương ứng. Do đó, ngưỡng tin cậy và NMS phải được thực hiện cho một hình ảnh cùng một lúc. Điều này có nghĩa là, chúng ta không thể vecto hóa các hoạt động liên quan và phải lặp lại chiều đầu tiên của `prediction` (chứa các chỉ mục của hình ảnh trong một lô)."
   ]
  },
  {
   "cell_type": "markdown",
   "metadata": {},
   "source": [
    "```\n",
    "    batch_size = prediction.size(0)\n",
    "\n",
    "    write = False\n",
    "\n",
    "    for ind in range(batch_size):\n",
    "        image_pred = prediction[ind]          #image Tensor\n",
    "           #confidence threshholding \n",
    "           #NMS\n",
    "```   "
   ]
  },
  {
   "cell_type": "markdown",
   "metadata": {},
   "source": [
    "Như đã mô tả trước đây, cờ `write` được sử dụng để chỉ ra rằng chúng tôi chưa khởi tạo đầu ra, một tensor mà chúng tôi sẽ sử dụng để thu thập các phát hiện đúng trên toàn bộ batch.\n",
    "\n",
    "Khi bên trong vòng lặp, hãy dọn dẹp mọi thứ một chút. Lưu ý rằng mỗi hàng hộp giới hạn có 85 thuộc tính, trong đó 80 thuộc tính là scores của lớp. Tại thời điểm này, chúng tôi chỉ quan tâm đến điểm lớp có giá trị lớn nhất. Vì vậy, chúng tôi xóa 80 điểm lớp khỏi mỗi hàng và thay vào đó, thêm chỉ số của lớp có giá trị lớn nhất, cũng như điểm số của lớp đó."
   ]
  },
  {
   "cell_type": "markdown",
   "metadata": {},
   "source": [
    "```\n",
    "        max_conf, max_conf_score = torch.max(image_pred[:,5:5+ num_classes], 1)\n",
    "        max_conf = max_conf.float().unsqueeze(1)\n",
    "        max_conf_score = max_conf_score.float().unsqueeze(1)\n",
    "        seq = (image_pred[:,:5], max_conf, max_conf_score)\n",
    "        image_pred = torch.cat(seq, 1)\n",
    "```"
   ]
  },
  {
   "cell_type": "markdown",
   "metadata": {},
   "source": [
    "Hãy nhớ rằng chúng tôi đã đặt các hàng hộp giới hạn có độ tin cậy đối tượng nhỏ hơn ngưỡng thành 0? Hãy loại bỏ chúng."
   ]
  },
  {
   "cell_type": "markdown",
   "metadata": {},
   "source": [
    "```\n",
    "        non_zero_ind =  (torch.nonzero(image_pred[:,4]))\n",
    "        try:\n",
    "            image_pred_ = image_pred[non_zero_ind.squeeze(),:].view(-1,7)\n",
    "        except:\n",
    "            continue\n",
    "        \n",
    "        #For PyTorch 0.4 compatibility\n",
    "        #Since the above code with not raise exception for no detection \n",
    "        #as scalars are supported in PyTorch 0.4\n",
    "        if image_pred_.shape[0] == 0:\n",
    "            continue\n",
    "```"
   ]
  },
  {
   "cell_type": "markdown",
   "metadata": {},
   "source": [
    "Khối thử loại trừ ở đó để xử lý các tình huống mà chúng tôi không có phát hiện. Trong trường hợp đó, chúng tôi sử dụng tiếp tục để bỏ qua phần còn lại của phần thân vòng lặp cho hình ảnh này.\n",
    "\n",
    "Bây giờ, chúng ta hãy phát hiện các lớp trong một hình ảnh."
   ]
  },
  {
   "cell_type": "markdown",
   "metadata": {},
   "source": [
    "```\n",
    "        #Get the various classes detected in the image\n",
    "        img_classes = unique(image_pred_[:,-1]) # -1 index holds the class index\n",
    "```"
   ]
  },
  {
   "cell_type": "markdown",
   "metadata": {},
   "source": [
    "Vì có thể có nhiều phát hiện đúng của cùng một lớp, chúng tôi sử dụng một hàm được gọi là `unique` để nhận các lớp có mặt trong bất kỳ hình ảnh nhất định nào."
   ]
  },
  {
   "cell_type": "markdown",
   "metadata": {},
   "source": [
    "```\n",
    "def unique(tensor):\n",
    "    tensor_np = tensor.cpu().numpy()\n",
    "    unique_np = np.unique(tensor_np)\n",
    "    unique_tensor = torch.from_numpy(unique_np)\n",
    "    \n",
    "    tensor_res = tensor.new(unique_tensor.shape)\n",
    "    tensor_res.copy_(unique_tensor)\n",
    "    return tensor_res\n",
    "\n",
    "```"
   ]
  },
  {
   "cell_type": "markdown",
   "metadata": {},
   "source": [
    "Sau đó, chúng tôi thực hiện NMS theo phân lớp."
   ]
  },
  {
   "cell_type": "markdown",
   "metadata": {},
   "source": [
    "```\n",
    "        for cls in img_classes:\n",
    "            #perform NMS\n",
    "```"
   ]
  },
  {
   "cell_type": "markdown",
   "metadata": {},
   "source": [
    "Khi chúng ta đã ở bên trong vòng lặp, điều đầu tiên chúng ta làm là trích xuất các phát hiện của một lớp cụ thể (được biểu thị bằng biến `cls`)."
   ]
  },
  {
   "cell_type": "markdown",
   "metadata": {},
   "source": [
    "```\n",
    "        #get the detections with one particular class\n",
    "        cls_mask = image_pred_*(image_pred_[:,-1] == cls).float().unsqueeze(1)\n",
    "        class_mask_ind = torch.nonzero(cls_mask[:,-2]).squeeze()\n",
    "        image_pred_class = image_pred_[class_mask_ind].view(-1,7)\n",
    "\n",
    "        #sort the detections such that the entry with the maximum objectness\n",
    "        #confidence is at the top\n",
    "        conf_sort_index = torch.sort(image_pred_class[:,4], descending = True )[1]\n",
    "        image_pred_class = image_pred_class[conf_sort_index]\n",
    "        idx = image_pred_class.size(0)   #Number of detections\n",
    "```"
   ]
  },
  {
   "cell_type": "markdown",
   "metadata": {},
   "source": [
    "Bây giờ, chúng tôi thực hiện NMS."
   ]
  },
  {
   "cell_type": "markdown",
   "metadata": {},
   "source": [
    "```\n",
    "    for i in range(idx):\n",
    "        #Get the IOUs of all boxes that come after the one we are looking at \n",
    "        #in the loop\n",
    "        try:\n",
    "            ious = bbox_iou(image_pred_class[i].unsqueeze(0), image_pred_class[i+1:])\n",
    "        except ValueError:\n",
    "            break\n",
    "\n",
    "        except IndexError:\n",
    "            break\n",
    "\n",
    "        #Zero out all the detections that have IoU > treshhold\n",
    "        iou_mask = (ious < nms_conf).float().unsqueeze(1)\n",
    "        image_pred_class[i+1:] *= iou_mask       \n",
    "\n",
    "        #Remove the non-zero entries\n",
    "        non_zero_ind = torch.nonzero(image_pred_class[:,4]).squeeze()\n",
    "        image_pred_class = image_pred_class[non_zero_ind].view(-1,7)\n",
    "\n",
    "```"
   ]
  },
  {
   "cell_type": "markdown",
   "metadata": {},
   "source": [
    "Ở đây, chúng tôi sử dụng một hàm `bbox_iou`. Đầu vào đầu tiên là hàng hộp giới hạn được lập chỉ mục bởi biến `i` trong vòng lặp.\n",
    "\n",
    "Đầu vào thứ hai cho `bbox_iou` là một hàng chục của nhiều hàng hộp giới hạn. Đầu ra của hàm `bbox_iou` là một tensor chứa IoU của hộp giới hạn được đại diện bởi đầu vào đầu tiên với mỗi hộp giới hạn có trong đầu vào thứ hai.\n",
    "\n",
    "![](https://blog.paperspace.com/content/images/2018/04/bbox-3.png)"
   ]
  },
  {
   "cell_type": "markdown",
   "metadata": {},
   "source": [
    "Nếu chúng ta có hai hộp giới hạn của cùng một lớp có IoU lớn hơn một ngưỡng, thì hộp có độ tin cậy của lớp thấp hơn sẽ bị loại. Chúng tôi đã sắp xếp các hộp giới hạn với những hộp có tâm sự cao hơn ở trên cùng.\n",
    "\n",
    "Trong phần nội dung của vòng lặp, các dòng sau cung cấp IoU của hộp, được lập chỉ mục bởi `i` với tất cả các hộp giới hạn có chỉ số cao hơn `i`."
   ]
  },
  {
   "cell_type": "markdown",
   "metadata": {},
   "source": [
    "```\n",
    "ious = bbox_iou(image_pred_class[i].unsqueeze(0), image_pred_class[i+1:])\n",
    "```"
   ]
  },
  {
   "cell_type": "markdown",
   "metadata": {},
   "source": [
    "Mỗi lần lặp, nếu bất kỳ hộp giới hạn nào có chỉ số lớn hơn tôi có IoU (với hộp được lập chỉ mục bởi `i`) lớn hơn ngưỡng `nms_thresh`, thì hộp cụ thể đó sẽ bị loại bỏ."
   ]
  },
  {
   "cell_type": "markdown",
   "metadata": {},
   "source": [
    "```\n",
    "#Zero out all the detections that have IoU > treshhold\n",
    "iou_mask = (ious < nms_conf).float().unsqueeze(1)\n",
    "image_pred_class[i+1:] *= iou_mask       \n",
    "\n",
    "#Remove the non-zero entries\n",
    "non_zero_ind = torch.nonzero(image_pred_class[:,4]).squeeze()\n",
    "image_pred_class = image_pred_class[non_zero_ind]         \n",
    "```"
   ]
  },
  {
   "cell_type": "markdown",
   "metadata": {},
   "source": [
    "Cũng lưu ý rằng, chúng tôi đã đặt dòng mã để tính toán `ious` trong một khối `try-catch`. Điều này là do vòng lặp được thiết kế để chạy các lần lặp `idx` (số hàng trong `image_pred_class`). Tuy nhiên, khi chúng tôi tiếp tục với vòng lặp, một số hộp giới hạn có thể bị xóa khỏi `image_pred_class`. Điều này có nghĩa là, ngay cả khi một giá trị bị xóa khỏi `image_pred_class`, chúng ta không thể có các lần lặp `idx`. Do đó, chúng tôi có thể cố gắng lập chỉ mục một giá trị nằm ngoài giới hạn (`IndexError`) hoặc slice `image_pred_class [i + 1:]` có thể trả về một tensor trống, gán giá trị này sẽ kích hoạt một `ValueError`. Tại thời điểm đó, chúng tôi có thể chắc chắn rằng NMS có thể loại bỏ không có hộp giới hạn nào nữa và chúng tôi thoát khỏi vòng lặp."
   ]
  },
  {
   "cell_type": "markdown",
   "metadata": {},
   "source": [
    "## 4.3 Tính IoU\n",
    "\n",
    "Đây là hàm `bbox_iou`."
   ]
  },
  {
   "cell_type": "markdown",
   "metadata": {},
   "source": [
    "```\n",
    "\n",
    "def bbox_iou(box1, box2):\n",
    "    \"\"\"\n",
    "    Returns the IoU of two bounding boxes \n",
    "    \n",
    "    \n",
    "    \"\"\"\n",
    "    #Get the coordinates of bounding boxes\n",
    "    b1_x1, b1_y1, b1_x2, b1_y2 = box1[:,0], box1[:,1], box1[:,2], box1[:,3]\n",
    "    b2_x1, b2_y1, b2_x2, b2_y2 = box2[:,0], box2[:,1], box2[:,2], box2[:,3]\n",
    "    \n",
    "    #get the corrdinates of the intersection rectangle\n",
    "    inter_rect_x1 =  torch.max(b1_x1, b2_x1)\n",
    "    inter_rect_y1 =  torch.max(b1_y1, b2_y1)\n",
    "    inter_rect_x2 =  torch.min(b1_x2, b2_x2)\n",
    "    inter_rect_y2 =  torch.min(b1_y2, b2_y2)\n",
    "    \n",
    "    #Intersection area\n",
    "    inter_area = torch.clamp(inter_rect_x2 - inter_rect_x1 + 1, min=0) * torch.clamp(inter_rect_y2 - inter_rect_y1 + 1, min=0)\n",
    " \n",
    "    #Union Area\n",
    "    b1_area = (b1_x2 - b1_x1 + 1)*(b1_y2 - b1_y1 + 1)\n",
    "    b2_area = (b2_x2 - b2_x1 + 1)*(b2_y2 - b2_y1 + 1)\n",
    "    \n",
    "    iou = inter_area / (b1_area + b2_area - inter_area)\n",
    "    \n",
    "    return iou\n",
    "\n",
    "```"
   ]
  },
  {
   "cell_type": "markdown",
   "metadata": {},
   "source": [
    "## 4.4 Viết chương trình dự đoán\n",
    "\n",
    "Hàm `write_results` xuất ra một tensor có kích thước D x 8. Ở đây D là các phát hiện đúng trong tất cả các hình ảnh, mỗi hình được biểu diễn bằng một hàng. Mỗi phát hiện có 8 thuộc tính, cụ thể là chỉ số của hình ảnh trong lô mà phát hiện thuộc về, **tọa độ 4 góc, điểm đối tượng, điểm của lớp có độ tin cậy tối đa và chỉ số của lớp đó**.\n",
    "\n",
    "Cũng giống như trước đây, chúng tôi không khởi tạo tensor đầu ra trừ khi chúng tôi có một phát hiện để gán cho nó. Khi nó đã được khởi tạo, chúng tôi kết hợp các phát hiện tiếp theo với nó. Chúng tôi sử dụng cờ `write` để cho biết tensor đã được khởi tạo hay chưa. Vào cuối vòng lặp lặp qua các lớp, chúng tôi thêm các phát hiện kết quả vào tensor `output`."
   ]
  },
  {
   "cell_type": "markdown",
   "metadata": {},
   "source": [
    "```\n",
    "       batch_ind = image_pred_class.new(image_pred_class.size(0), 1).fill_(ind)      \n",
    "       #Repeat the batch_id for as many detections of the class cls in the image\n",
    "       seq = batch_ind, image_pred_class\n",
    "\n",
    "       if not write:\n",
    "           output = torch.cat(seq,1)\n",
    "           write = True\n",
    "       else:\n",
    "           out = torch.cat(seq,1)\n",
    "           output = torch.cat((output,out))\n",
    "```"
   ]
  },
  {
   "cell_type": "markdown",
   "metadata": {},
   "source": [
    "Khi kết thúc hàm, chúng tôi kiểm tra xem đầu ra đã được khởi tạo hay chưa. Nếu không có nghĩa là không có một phát hiện nào trong bất kỳ hình ảnh nào của lô. Trong trường hợp đó, chúng tôi trả về 0."
   ]
  },
  {
   "cell_type": "markdown",
   "metadata": {},
   "source": [
    "```\n",
    "    try:\n",
    "        return output\n",
    "    except:\n",
    "        return 0\n",
    "```"
   ]
  },
  {
   "cell_type": "code",
   "execution_count": null,
   "metadata": {},
   "outputs": [],
   "source": []
  }
 ],
 "metadata": {
  "kernelspec": {
   "display_name": "Python 3",
   "language": "python",
   "name": "python3"
  },
  "language_info": {
   "codemirror_mode": {
    "name": "ipython",
    "version": 3
   },
   "file_extension": ".py",
   "mimetype": "text/x-python",
   "name": "python",
   "nbconvert_exporter": "python",
   "pygments_lexer": "ipython3",
   "version": "3.8.3"
  }
 },
 "nbformat": 4,
 "nbformat_minor": 4
}
