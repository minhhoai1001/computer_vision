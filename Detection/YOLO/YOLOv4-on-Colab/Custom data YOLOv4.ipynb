{
 "cells": [
  {
   "cell_type": "markdown",
   "metadata": {},
   "source": [
    "# Running YOLOv4 với Darknet với Google Colab! (GPU free)\n",
    "Hướng dẫn này sẽ giúp bạn dễ dàng xây dựng YOLOv4 trên đám mây với GPU được bật để bạn có thể chạy tính năng phát hiện đối tượng trong mili giây!"
   ]
  },
  {
   "cell_type": "markdown",
   "metadata": {},
   "source": [
    "## Bước 1: Bật GPU trong notebook\n",
    "Bạn sẽ muốn bật tăng tốc GPU trong máy tính xách tay Colab của mình để hệ thống YOLOv4 của bạn có thể xử lý phát hiện nhanh hơn 100 lần so với CPU.\n",
    "\n",
    "1. Click Edit at top left of your notebook\n",
    "2. Click Notebook Settings within dropdown\n",
    "3. Under 'Hardware Accelerator' select GPU and then hit Save"
   ]
  },
  {
   "cell_type": "markdown",
   "metadata": {},
   "source": [
    "## Bước 2: Cloning and Building Darknet\n",
    "Các ô sau sẽ sao chép darknet từ kho lưu trữ nổi tiếng của AlexeyAB, điều chỉnh Makefile để kích hoạt OPENCV và GPU cho darknet và sau đó xây dựng darknet.\n",
    "\n",
    "Đừng lo lắng về bất kỳ cảnh báo nào khi bạn chạy!"
   ]
  },
  {
   "cell_type": "code",
   "execution_count": null,
   "metadata": {},
   "outputs": [],
   "source": [
    "# clone darknet repo\n",
    "!git clone https://github.com/AlexeyAB/darknet"
   ]
  },
  {
   "cell_type": "code",
   "execution_count": null,
   "metadata": {},
   "outputs": [],
   "source": [
    "# change makefile to have GPU and OPENCV enabled\n",
    "%cd darknet\n",
    "!sed -i 's/OPENCV=0/OPENCV=1/' Makefile\n",
    "!sed -i 's/GPU=0/GPU=1/' Makefile\n",
    "!sed -i 's/CUDNN=0/CUDNN=1/' Makefile\n",
    "!sed -i 's/CUDNN_HALF=0/CUDNN_HALF=1/' Makefile"
   ]
  },
  {
   "cell_type": "code",
   "execution_count": null,
   "metadata": {},
   "outputs": [],
   "source": [
    "# verify CUDA\n",
    "!/usr/local/cuda/bin/nvcc --version"
   ]
  },
  {
   "cell_type": "code",
   "execution_count": null,
   "metadata": {},
   "outputs": [],
   "source": [
    "# make darknet (builds darknet so that you can then use the darknet executable file to run or train object detectors)\n",
    "!make"
   ]
  },
  {
   "cell_type": "markdown",
   "metadata": {},
   "source": [
    "## Bước 3: Tải xuống YOLOv4 weight đã được training trước\n",
    "YOLOv4 đã được đào tạo trên tập dữ liệu coco có 80 object mà nó có thể dự đoán. Chúng tôi sẽ lấy các trọng số được đào tạo trước này để có thể chạy YOLOv4 trên các lớp được đào tạo trước này và nhận được các phát hiện."
   ]
  },
  {
   "cell_type": "code",
   "execution_count": null,
   "metadata": {},
   "outputs": [],
   "source": [
    "!wget https://github.com/AlexeyAB/darknet/releases/download/darknet_yolo_v3_optimal/yolov4.weights"
   ]
  },
  {
   "cell_type": "markdown",
   "metadata": {},
   "source": [
    "## Bước 4: Xác định Helper Functions\n",
    "Ba chức năng này là các chức năng trợ giúp sẽ cho phép bạn hiển thị hình ảnh trong Máy tính xách tay Colab của mình sau khi chạy các bước phát hiện, cũng như tải lên và tải xuống hình ảnh đến và từ Máy ảo đám mây của bạn."
   ]
  },
  {
   "cell_type": "code",
   "execution_count": null,
   "metadata": {},
   "outputs": [],
   "source": [
    "# define helper functions\n",
    "def imShow(path):\n",
    "  import cv2\n",
    "  import matplotlib.pyplot as plt\n",
    "  %matplotlib inline\n",
    "\n",
    "  image = cv2.imread(path)\n",
    "  height, width = image.shape[:2]\n",
    "  resized_image = cv2.resize(image,(3*width, 3*height), interpolation = cv2.INTER_CUBIC)\n",
    "\n",
    "  fig = plt.gcf()\n",
    "  fig.set_size_inches(18, 10)\n",
    "  plt.axis(\"off\")\n",
    "  plt.imshow(cv2.cvtColor(resized_image, cv2.COLOR_BGR2RGB))\n",
    "  plt.show()\n",
    "\n",
    "# use this to upload files\n",
    "def upload():\n",
    "  from google.colab import files\n",
    "  uploaded = files.upload() \n",
    "  for name, data in uploaded.items():\n",
    "    with open(name, 'wb') as f:\n",
    "      f.write(data)\n",
    "      print ('saved file', name)\n",
    "\n",
    "# use this to download a file  \n",
    "def download(path):\n",
    "  from google.colab import files\n",
    "  files.download(path)"
   ]
  },
  {
   "cell_type": "markdown",
   "metadata": {},
   "source": [
    "## Bước 5: Chạy tính năng phát hiện của bạn với Darknet và YOLOv4!\n",
    "Darknet hiện đã được xây dựng và sẵn sàng chạy tính năng dò tìm bằng YOLOv4 trên đám mây! Bạn có thể tìm hiểu loại YOLOv4 weight được đào tạo trước có thể phát hiện bằng cách nhấp vào đây. [LỚP COCO](https://cocodataset.org/#explore)\n",
    "\n",
    "Trình dò tìm đối tượng có thể được chạy bằng lệnh sau\n",
    "\n",
    "```bash\n",
    "!./darknet detector test <path to .data file> <path to config> <path to weights> <path to image>\n",
    "```\n",
    "    \n",
    "Darknet đi kèm với một vài hình ảnh đã được cài đặt trong thư mục darknet / data /.\n",
    "\n",
    "**Lưu ý**: Sau khi chạy tính năng dò tìm, OpenCV không thể mở hình ảnh ngay lập tức trên đám mây nên chúng tôi phải chạy:\n",
    "\n",
    "```bash\n",
    "imShow('predictions.jpg')\n",
    "```\n",
    "Điều này sẽ xuất ra hình ảnh với các phát hiện được hiển thị. Các phát hiện gần đây nhất luôn được lưu vào 'dự đoán.jpg'\n",
    "\n",
    "Hãy thử các ví dụ dưới đây cho chính mình!"
   ]
  },
  {
   "cell_type": "code",
   "execution_count": null,
   "metadata": {},
   "outputs": [],
   "source": [
    "# run darknet detection on test images\n",
    "!./darknet detector test cfg/coco.data cfg/yolov4.cfg yolov4.weights data/person.jpg"
   ]
  },
  {
   "cell_type": "code",
   "execution_count": null,
   "metadata": {},
   "outputs": [],
   "source": [
    "# show image using our helper function\n",
    "imShow('predictions.jpg')"
   ]
  },
  {
   "cell_type": "code",
   "execution_count": null,
   "metadata": {},
   "outputs": [],
   "source": [
    "# This stops 'Run all' at this cell by causing an error\n",
    "assert False"
   ]
  },
  {
   "cell_type": "markdown",
   "metadata": {},
   "source": [
    "## Bước 6: Tải lên tệp cục bộ hoặc tệp Google Drive để sử dụng\n",
    "Bạn có thể muốn chạy dò tìm trên nhiều hình ảnh trong thư mục darknet / data /. Bước này sẽ hướng dẫn bạn cách tải các tệp cục bộ hoặc tệp Google Drive lên máy ảo đám mây và chạy tính năng phát hiện trên chúng!"
   ]
  },
  {
   "cell_type": "markdown",
   "metadata": {},
   "source": [
    "### Phương pháp 1: Tệp cục bộ\n",
    "Để tải lên các tệp cục bộ, chỉ cần sử dụng chức năng trợ giúp của chúng tôi bằng cách chạy '`upload ()`' như bên dưới. Nhấp vào Chọn tệp và chọn hình ảnh từ máy cục bộ của bạn mà bạn muốn tải lên máy ảo đám mây.\n",
    "\n",
    "Nếu chức năng này không hoạt động với bạn thì hãy nhấp vào nút **Upload** trong **File Explorer** ở phía bên trái sổ ghi chép của bạn.\n",
    "\n",
    "Hình ảnh sẽ được lưu vào thư mục gốc của máy ảo đám mây để bạn có thể truy cập nó từ lệnh darknet bằng cách chạy.\n",
    "\n",
    "``` bash\n",
    "!./darknet detector test cfg/coco.data cfg/yolov4.cfg yolov4.weights ../<your image name>\n",
    "```"
   ]
  },
  {
   "cell_type": "code",
   "execution_count": null,
   "metadata": {},
   "outputs": [],
   "source": [
    "# try out the upload helper function! (I uploaded an image called highway.jpg, upload whatever you want!)\n",
    "%cd ..\n",
    "upload()\n",
    "%cd darknet"
   ]
  },
  {
   "cell_type": "code",
   "execution_count": null,
   "metadata": {},
   "outputs": [],
   "source": [
    "# run darknet with YOLOv4 on your personal image! (note yours will not be called highway.jpg so change the name)\n",
    "!./darknet detector test cfg/coco.data cfg/yolov4.cfg yolov4.weights ../highway.jpg\n",
    "imShow('predictions.jpg')"
   ]
  },
  {
   "cell_type": "markdown",
   "metadata": {},
   "source": [
    "### Phương pháp 2: Google Drive\n",
    "Hình ảnh cũng có thể được tải lên từ Google Drive của bạn và dễ dàng chạy tính năng phát hiện YOLOv4.\n",
    "\n",
    "Bạn sẽ muốn chạy ô bên dưới để gắn ổ đĩa google của bạn vào máy ảo đám mây để bạn có thể truy cập nội dung của nó. Nó là dễ dàng!\n",
    "\n",
    "**LƯU Ý**: Chúng tôi sẽ tạo một liên kết tượng trưng giữa '/ content / gdrive / My \\ Drive /' và '/ mydrive.\n",
    "\n",
    "Điều này có nghĩa là chúng tôi chỉ đang tạo một lối tắt '/ mydrive' để ánh xạ đến nội dung trong thư mục '/ content / gdrive / My \\ Drive /'.\n",
    "\n",
    "Lý do cho điều này là đôi khi có không gian trong đường dẫn thư mục 'mydrive' có thể gây ra sự cố khi chạy các lệnh nhất định. Liên kết tượng trưng này sẽ ngăn điều này xảy ra!\n",
    "\n",
    "Giờ đây, bạn có thể chạy YOLOv4 với hình ảnh từ Google Drive bằng lệnh darknet:\n",
    "```bash\n",
    "!./darknet detector test cfg/coco.data cfg/yolov4.cfg yolov4.weights /mydrive/<path to image>\n",
    "```   \n",
    "Tôi khuyên bạn nên lưu hình ảnh trong một thư mục có tên là 'hình ảnh' ở cấp cơ sở của Google Drive."
   ]
  },
  {
   "cell_type": "code",
   "execution_count": null,
   "metadata": {},
   "outputs": [],
   "source": [
    "%cd ..\n",
    "from google.colab import drive\n",
    "drive.mount('/content/gdrive')"
   ]
  },
  {
   "cell_type": "code",
   "execution_count": null,
   "metadata": {},
   "outputs": [],
   "source": [
    "# this creates a symbolic link so that now the path /content/gdrive/My\\ Drive/ is equal to /mydrive\n",
    "!ln -s /content/gdrive/My\\ Drive/ /mydrive\n",
    "!ls /mydrive"
   ]
  },
  {
   "cell_type": "code",
   "execution_count": null,
   "metadata": {},
   "outputs": [],
   "source": [
    "# cd back into the darknet folder to run detections\n",
    "%cd darknet"
   ]
  },
  {
   "cell_type": "code",
   "execution_count": null,
   "metadata": {},
   "outputs": [],
   "source": [
    "# run detections on image within your Google Drive!\n",
    "!./darknet detector test cfg/coco.data cfg/yolov4.cfg yolov4.weights /mydrive/images/street.jpg\n",
    "imShow('predictions.jpg')"
   ]
  },
  {
   "cell_type": "markdown",
   "metadata": {},
   "source": [
    "## Bước 7: Tùy chỉnh YOLOv4 với các cờ dòng lệnh khác nhau.\n",
    "Darknet và YOLOv4 có rất nhiều cờ dòng lệnh mà bạn có thể thêm vào trình phát hiện '! ./ darknet ...' để cho phép nó có thể tùy chỉnh và linh hoạt.\n",
    "\n",
    "Tôi sẽ đưa ra một vài ví dụ về những lá cờ này mà bạn có thể tận dụng! Hãy trộn và kết hợp chúng với nhau để tùy chỉnh các phát hiện của bạn theo bất kỳ cách nào bạn muốn."
   ]
  },
  {
   "cell_type": "markdown",
   "metadata": {},
   "source": [
    "### Cờ ngưỡng\n",
    "Có một cờ `'-thresh'` bạn có thể sử dụng để thêm ngưỡng khi phát hiện. Chỉ những phát hiện có mức độ tin cậy cao hơn ngưỡng bạn đặt mới được trả về.\n",
    "\n",
    "Trong ví dụ dưới đây, chúng tôi chạy darknet với YOLOv4 mà không có ngưỡng trên dog.jpg hình ảnh thử nghiệm. Hình ảnh trả về bốn phát hiện, độ tin cậy thấp nhất là trên cây trồng trong chậu với 33%.\n",
    "\n",
    "Nếu chúng ta thêm cờ `'-thresh 0,5'`, điều này sẽ chỉ xuất ra ba phát hiện vì bây giờ cây trồng trong chậu giảm xuống dưới ngưỡng và bị bỏ qua.\n",
    "\n",
    "Kiểm tra nó ra dưới đây!"
   ]
  },
  {
   "cell_type": "code",
   "execution_count": null,
   "metadata": {},
   "outputs": [],
   "source": [
    "# this is ran without the threshold flag set\n",
    "!./darknet detector test cfg/coco.data cfg/yolov4.cfg yolov4.weights data/dog.jpg\n",
    "imShow('predictions.jpg')"
   ]
  },
  {
   "cell_type": "code",
   "execution_count": null,
   "metadata": {},
   "outputs": [],
   "source": [
    "# same detections but ran with the threshold flag set to 0.5 (pottedplant is no longer detected!)\n",
    "!./darknet detector test cfg/coco.data cfg/yolov4.cfg yolov4.weights data/dog.jpg -thresh 0.5\n",
    "imShow('predictions.jpg')"
   ]
  },
  {
   "cell_type": "markdown",
   "metadata": {},
   "source": [
    "### Đầu ra tọa độ hộp giới hạn\n",
    "Bạn có thể xuất ra tọa độ hộp giới hạn cho mỗi lần phát hiện bằng cờ '-ext_output'. Cờ kết quả đầu ra bên ngoài này sẽ cung cấp cho bạn một số chi tiết bổ sung về từng phát hiện trong một hình ảnh.\n",
    "\n",
    "Kiểm tra nó ra dưới đây!"
   ]
  },
  {
   "cell_type": "code",
   "execution_count": null,
   "metadata": {},
   "outputs": [],
   "source": [
    "# darknet run with external output flag to print bounding box coordinates\n",
    "!./darknet detector test cfg/coco.data cfg/yolov4.cfg yolov4.weights data/person.jpg -ext_output\n",
    "imShow('predictions.jpg')"
   ]
  },
  {
   "cell_type": "markdown",
   "metadata": {},
   "source": [
    "## Bước 8: Nhiều hình ảnh cùng một lúc\n",
    "\n",
    "Tính năng phát hiện đối tượng YOLOv4 có thể chạy trên nhiều hình ảnh cùng một lúc. Điều này được thực hiện thông qua việc có một tệp văn bản có các đường dẫn đến một số hình ảnh mà bạn muốn cho máy dò chạy.\n",
    "\n",
    "Tệp .txt phải ở định dạng này. Một đường dẫn đến một hình ảnh trên mỗi dòng.\n",
    "```bash\n",
    "/mydrive/images/plane.jpg\n",
    "/mydrive/images/street.jpg\n",
    "/mydrive/images/highway.jpg\n",
    "```\n",
    "Tệp này được lưu trữ trong thư mục gốc Google Drive của tôi và giữ đường dẫn đến ba hình ảnh trong thư mục hình ảnh Google Drive của tôi."
   ]
  },
  {
   "cell_type": "markdown",
   "metadata": {},
   "source": [
    "### Saving Results to a .txt File\n",
    "You can also save the results of running multiple images to a text file."
   ]
  },
  {
   "cell_type": "code",
   "execution_count": null,
   "metadata": {},
   "outputs": [],
   "source": [
    "!./darknet detector test cfg/coco.data cfg/yolov4.cfg yolov4.weights -dont_show -ext_output < /mydrive/images.txt > result.txt"
   ]
  },
  {
   "cell_type": "code",
   "execution_count": null,
   "metadata": {},
   "outputs": [],
   "source": [
    "download('result.txt')"
   ]
  },
  {
   "cell_type": "markdown",
   "metadata": {},
   "source": [
    "# Cách training custom YOLOv4 với dữ liệu của riêng bạn!\n",
    "Bây giờ đã đến lúc tạo trình phát hiện đối tượng YOLOv4 tùy chỉnh của riêng bạn để nhận ra bất kỳ lớp / đối tượng nào bạn muốn!\n",
    "\n",
    "Điều này đòi hỏi một số thủ thuật và mẹo nhỏ, vì vậy hãy đảm bảo làm theo sát phần còn lại của hướng dẫn.\n",
    "\n",
    "Để tạo một trình dò YOLOv4 tùy chỉnh, chúng tôi sẽ cần những thứ sau:\n",
    "\n",
    "* Tập dữ liệu tùy chỉnh được gắn nhãn\n",
    "* Tệp .cfg tùy chỉnh\n",
    "* Tệp obj.data và obj.names\n",
    "* Tệp train.txt (test.txt là tùy chọn ở đây)"
   ]
  },
  {
   "cell_type": "markdown",
   "metadata": {},
   "source": [
    "## Bước 1: Thu thập và gắn nhãn tập dữ liệu tùy chỉnh\n",
    "Để tạo một máy dò đối tượng tùy chỉnh, bạn cần một tập dữ liệu tốt về hình ảnh và nhãn để máy dò có thể được đào tạo hiệu quả để phát hiện các đối tượng.\n",
    "\n",
    "Điều này có thể được thực hiện theo hai cách. thông qua hoặc thông qua việc sử dụng hình ảnh của Google hoặc tạo tập dữ liệu của riêng bạn và sử dụng công cụ để vẽ nhãn theo cách thủ công. (Tôi đề xuất cách đầu tiên!)"
   ]
  },
  {
   "cell_type": "markdown",
   "metadata": {},
   "source": [
    "### Phương pháp 1: Sử dụng Tập dữ liệu hình ảnh mở của Google (ĐƯỢC KHUYẾN NGHỊ)\n",
    "Phương pháp này là phương pháp tôi khuyên dùng vì bạn có thể thu thập hàng nghìn hình ảnh và tự động tạo nhãn của chúng trong vòng vài phút! Thu thập tập dữ liệu từ Tập dữ liệu hình ảnh mở của Google và sử dụng bộ công cụ OIDv4 để tạo nhãn thật dễ dàng và tiết kiệm thời gian. Tập dữ liệu chứa các hình ảnh được gắn nhãn cho hơn 600 lớp! [Khám phá tập dữ liệu tại đây!](https://storage.googleapis.com/openimages/web/index.html)\n",
    "\n",
    "Xem một trong những video youtube trước đây của tôi về cách sử dụng phương pháp này để tạo tập dữ liệu tùy chỉnh của riêng bạn!\n",
    "\n",
    "Tạo tập dữ liệu YOLOv3 tùy chỉnh ([Video](https://www.youtube.com/watch?v=_4A9inxGqRM)) (hình ảnh và nhãn có cùng định dạng cho YOLOv4 để video vẫn hoạt động)\n",
    "\n",
    "Đây là một liên kết đến kho lưu trữ github của tôi cho bộ công cụ OIDv4! [Github Repo](https://github.com/theAIGuysCode/OIDv4_ToolKit)\n",
    "\n",
    "Đối với hướng dẫn này, tôi sẽ tạo một trình dò đối tượng biển số xe bằng cách sử dụng dữ liệu từ Tập dữ liệu hình ảnh mở của Google."
   ]
  },
  {
   "cell_type": "markdown",
   "metadata": {},
   "source": [
    "### Phương pháp 2: Gắn nhãn hình ảnh theo cách thủ công với công cụ chú thích\n",
    "Nếu bạn không thể tìm thấy hình ảnh hoặc lớp thích hợp trong Tập dữ liệu hình ảnh mở của Google thì bạn sẽ phải sử dụng công cụ chú thích để vẽ nhãn theo cách thủ công, đây có thể là một quá trình mệt mỏi.\n",
    "\n",
    "Tôi đã tạo một video trước đây để hướng dẫn cách tải xuống hàng loạt hình ảnh từ Google Hình ảnh cùng với cách sử dụng LabelImg, một công cụ chú thích, để tạo tập dữ liệu tùy chỉnh cho YOLOv4. Nhấn vào liên kết bên dưới để tìm hiểu cách thực hiện.\n",
    "\n",
    "Tạo nhãn và chú thích cho tập dữ liệu YOLOv3 tùy chỉnh ([Video](https://www.youtube.com/watch?v=EGQyDla8JNU)) (cùng định dạng cho YOLOv4)\n",
    "\n",
    "Sau khi làm theo video hướng dẫn, bạn sẽ có thể có một thư mục với hình ảnh và tệp văn bản làm tập dữ liệu đào tạo của bạn cũng như một thư mục cho tập dữ liệu xác nhận của bạn như ở trên."
   ]
  },
  {
   "cell_type": "markdown",
   "metadata": {},
   "source": [
    "## Bước 2: Di chuyển tập dữ liệu tùy chỉnh của bạn vào máy ảo đám mây của bạn\n",
    "Vì vậy, bây giờ bạn đã có tập dữ liệu của mình được định dạng đúng để sử dụng cho việc đào tạo và xác thực, chúng tôi cần chuyển chúng vào máy ảo đám mây này để khi đến thời điểm chúng tôi có thể thực sự đào tạo và xác thực mô hình của mình.\n",
    "\n",
    "Tôi khuyên bạn nên đổi tên thư mục tập dữ liệu trainin với hình ảnh và tệp văn bản trên máy cục bộ của bạn thành `'obj'` và sau đó tạo một thư mục .zip của thư mục 'obj'. Sau đó, tôi khuyên bạn nên tải tệp zip lên Google Drive của mình. Vì vậy, bây giờ bạn sẽ có `obj.zip` ở đâu đó trong ổ đĩa Google của mình.\n",
    "\n",
    "Làm tương tự với tập dữ liệu xác thực của bạn nhưng đặt tên là `'test'`. Vì vậy, bây giờ bạn sẽ có `test.zip` cũng được tải lên Google Drive của bạn.\n",
    "\n",
    "Điều này sẽ giảm đáng kể thời gian chuyển tập dữ liệu vào máy ảo đám mây của chúng tôi.\n",
    "\n",
    "Bây giờ chúng tôi có thể sao chép trong tệp nén và giải nén chúng trong máy ảo đám mây của bạn."
   ]
  },
  {
   "cell_type": "code",
   "execution_count": null,
   "metadata": {},
   "outputs": [],
   "source": [
    "# this is where my datasets are stored within my Google Drive (I created a yolov4 folder to store all important files for custom training) \n",
    "!ls /mydrive/yolov4"
   ]
  },
  {
   "cell_type": "code",
   "execution_count": null,
   "metadata": {},
   "outputs": [],
   "source": [
    "# copy over both datasets into the root directory of the Colab VM (comment out test.zip if you are not using a validation dataset)\n",
    "!cp /mydrive/yolov4/obj.zip ../\n",
    "!cp /mydrive/yolov4/test.zip ../"
   ]
  },
  {
   "cell_type": "code",
   "execution_count": null,
   "metadata": {},
   "outputs": [],
   "source": [
    "# unzip the datasets and their contents so that they are now in /darknet/data/ folder\n",
    "!unzip ../obj.zip -d data/\n",
    "!unzip ../test.zip -d data/"
   ]
  },
  {
   "cell_type": "markdown",
   "metadata": {},
   "source": [
    "## Bước 3: Định cấu hình tệp để đào tạo\n",
    "Bước này liên quan đến việc định cấu hình đúng các tệp `.cfg`, `obj.data`, `obj.names`, `train.txt` và `test.txt` tùy chỉnh của bạn.\n",
    "\n",
    "Điều quan trọng là phải cấu hình tất cả các tệp này một cách hết sức thận trọng vì lỗi chính tả hoặc lỗi nhỏ có thể gây ra các vấn đề lớn với đào tạo tùy chỉnh của bạn."
   ]
  },
  {
   "cell_type": "markdown",
   "metadata": {},
   "source": [
    "### 1. Cfg File\n",
    "Sao chép yolov4.cfg vào Google Drive của bạn bằng cách chạy ô bên dưới. Điều này sẽ cho phép chúng tôi chỉnh sửa nó trong một trình soạn thảo văn bản."
   ]
  },
  {
   "cell_type": "code",
   "execution_count": null,
   "metadata": {},
   "outputs": [],
   "source": [
    "# download cfg to google drive and change its name\n",
    "!cp cfg/yolov4-custom.cfg /mydrive/yolov4/yolov4-obj.cfg"
   ]
  },
  {
   "cell_type": "code",
   "execution_count": null,
   "metadata": {},
   "outputs": [],
   "source": [
    "# to download to local machine (change its name to yolov4-obj.cfg once you download)\n",
    "download('cfg/yolov4-custom.cfg'"
   ]
  },
  {
   "cell_type": "markdown",
   "metadata": {},
   "source": [
    "Bây giờ bạn cần chỉnh sửa `.cfg` để phù hợp với nhu cầu của bạn dựa trên trình phát hiện đối tượng của bạn. Mở nó trong một mã hoặc trình soạn thảo văn bản để làm như vậy.\n",
    "\n",
    "Tôi khuyên bạn nên có **batch = 64** và **subdivisions = 16** để có kết quả cuối cùng. Nếu bạn gặp phải bất kỳ sự cố nào, hãy tăng các subdivisions lên 32\n",
    "\n",
    "Lưu ý: Tôi đặt **max_batches = 6000**, **step = 4800, 5400**, tôi đã thay đổi các **classes = 1** trong ba lớp YOLO và **filters = 18** trong ba lớp convolutional trước các lớp YOLO.\n",
    "\n",
    "Cách định cấu hình các biến của bạn:\n",
    "\n",
    "**width = 416**\n",
    "\n",
    "**height = 416** (đây có thể là bội số bất kỳ của 32, 416 là tiêu chuẩn, đôi khi bạn có thể cải thiện kết quả bằng cách đặt giá trị lớn hơn như 608 nhưng sẽ làm chậm quá trình đào tạo)\n",
    "\n",
    "max_batches = (# of class) * 2000 (nhưng không ít hơn 6000, vì vậy nếu bạn đang đào tạo cho 1, 2 hoặc 3 lớp thì nó sẽ là 6000, tuy nhiên bộ dò cho 5 lớp sẽ có max_batches = 10000)\n",
    "\n",
    "step = (80% max_batches), (90% max_batches) (vì vậy nếu max_batches = 10000, thì số bước = 8000, 9000)\n",
    "\n",
    "filters = (số lớp + 5) * 3 (vì vậy nếu bạn đang đào tạo cho một lớp thì bộ lọc của bạn = 18, nhưng nếu bạn đang đào tạo cho 4 lớp thì filters = 27)"
   ]
  },
  {
   "cell_type": "code",
   "execution_count": null,
   "metadata": {},
   "outputs": [],
   "source": [
    "# upload the custom .cfg back to cloud VM from Google Drive\n",
    "!cp /mydrive/yolov4/yolov4-obj.cfg ./cfg"
   ]
  },
  {
   "cell_type": "markdown",
   "metadata": {},
   "source": [
    "### 2. obj.names và obj.data\n",
    "Tạo một tệp mới trong một mã hoặc trình soạn thảo văn bản được gọi là `obj.names`, nơi bạn sẽ có một tên lớp trên mỗi dòng theo thứ tự giống như các lớp.txt của bạn từ bước tạo tập dữ liệu.\n",
    "\n",
    "LƯU Ý: Bạn không muốn có khoảng trắng trong tên lớp của mình. Vì lý do này, tôi đã thay đổi \"license plate\" thành license_plate.\n",
    "\n",
    "Bạn cũng sẽ tạo một tệp `obj.data` và điền vào nó như thế này (thay đổi số lượng lớp của bạn cho phù hợp, cũng như vị trí sao lưu của bạn)\n",
    "\n",
    "```bash\n",
    "classes =1\n",
    "train = data/train.txt\n",
    "valid = data/test.txt\n",
    "names = data/obj.names\n",
    "backup = /mydrive/yolov4/backup\n",
    "```\n",
    "Đường dẫn dự phòng này là nơi chúng tôi sẽ lưu các trọng số của mô hình của chúng tôi trong suốt quá trình đào tạo. Tạo một thư mục sao lưu trong ổ đĩa google của bạn và đặt đường dẫn chính xác của nó vào tệp này."
   ]
  },
  {
   "cell_type": "code",
   "execution_count": null,
   "metadata": {},
   "outputs": [],
   "source": [
    "# upload the obj.names and obj.data files to cloud VM from Google Drive\n",
    "!cp /mydrive/yolov4/obj.names ./data\n",
    "!cp /mydrive/yolov4/obj.data  ./data"
   ]
  },
  {
   "cell_type": "markdown",
   "metadata": {},
   "source": [
    "### 3. Tạo train.txt và test.txt\n",
    "The last configuration files needed before we can begin to train our custom detector are the train.txt and test.txt files which hold the relative paths to all our training images and valdidation images.\n",
    "\n",
    "Luckily I have created scripts that eaily generate these two files withe proper paths to all images.\n",
    "\n",
    "The scripts can be accessed from the [Github Repo](https://github.com/theAIGuysCode/YOLOv4-Cloud-Tutorial)\n",
    "\n",
    "Just download the two files to your local machine and upload them to your Google Drive so we can use them in the Colab Notebook."
   ]
  },
  {
   "cell_type": "code",
   "execution_count": null,
   "metadata": {},
   "outputs": [],
   "source": [
    "# upload the generate_train.py and generate_test.py script to cloud VM from Google Drive\n",
    "!cp /mydrive/yolov4/generate_train.py ./\n",
    "!cp /mydrive/yolov4/generate_test.py ./"
   ]
  },
  {
   "cell_type": "markdown",
   "metadata": {},
   "source": [
    "Bây giờ chỉ cần chạy cả hai tập lệnh để thực hiện công việc tạo hai tệp txt cho bạn."
   ]
  },
  {
   "cell_type": "code",
   "execution_count": null,
   "metadata": {},
   "outputs": [],
   "source": [
    "!python generate_train.py\n",
    "!python generate_test.py"
   ]
  },
  {
   "cell_type": "code",
   "execution_count": null,
   "metadata": {},
   "outputs": [],
   "source": [
    "# verify that the newly generated train.txt and test.txt can be seen in our darknet/data folder\n",
    "!ls data/"
   ]
  },
  {
   "cell_type": "markdown",
   "metadata": {},
   "source": [
    "## Bước 4: Tải xuống các weight đã được đào tạo trước cho các lớp convolutional\n",
    "Bước này tải xuống các trọng số cho các lớp phức hợp của mạng YOLOv4. Bằng cách sử dụng các trọng lượng này, nó giúp máy dò đối tượng tùy chỉnh của bạn chính xác hơn và không phải đào tạo lâu. Bạn không nhất thiết phải sử dụng những trọng số này nhưng hãy tin tôi nó sẽ giúp mô thức của bạn hội tụ và chính xác nhanh hơn. SỬ DỤNG NÓ!"
   ]
  },
  {
   "cell_type": "code",
   "execution_count": null,
   "metadata": {},
   "outputs": [],
   "source": [
    "!wget https://github.com/AlexeyAB/darknet/releases/download/darknet_yolo_v3_optimal/yolov4.conv.137"
   ]
  },
  {
   "cell_type": "markdown",
   "metadata": {},
   "source": [
    "## Bước 5: Train Your Custom Object Detector!\n",
    "Cuối cùng đã đến lúc! Bạn đã làm cho nó đến thời điểm của sự thật! Bây giờ bạn đã sẵn sàng đào tạo trình phát hiện đối tượng YOLOv4 tùy chỉnh của mình trên bất kỳ lớp học điên rồ nào mà bạn đã quyết định. Vì vậy, hãy chạy lệnh sau. (-dont_show cờ ngăn biểu đồ bật lên vì Colab Notebook không thể mở hình ảnh tại chỗ, lớp phủ flag-map có nghĩa là độ chính xác trung bình trên biểu đồ để xem độ chính xác của mô hình của bạn, chỉ thêm cờ bản đồ nếu bạn có tập dữ liệu xác thực)\n",
    "\n",
    "```bash\n",
    "!./darknet detector train <path to obj.data> <path to custom config> yolov4.conv.137 -dont_show -map\n",
    "```\n",
    "\n",
    "**TIP:** Việc đào tạo này có thể mất vài giờ tùy thuộc vào số lần lặp lại bạn đã chọn trong tệp .cfg. Bạn sẽ muốn để điều này chạy khi bạn ngủ hoặc đi làm trong ngày, v.v. Tuy nhiên, Colab Cloud Service sẽ khởi động bạn khỏi máy ảo nếu bạn không sử dụng quá lâu (30-90 phút).\n",
    "\n",
    "Để tránh việc giữ này (CTRL + SHIFT + i) đồng thời để mở chế độ xem trình kiểm tra trên trình duyệt của bạn.\n",
    "\n",
    "Dán mã sau vào cửa sổ bảng điều khiển của bạn và nhấn Enter\n",
    "```bash\n",
    "function ClickConnect () {\n",
    "console.log (\"Đang làm việc\");\n",
    "tài liệu\n",
    "   .querySelector ('# top-toolbar> colab-connect-button')\n",
    "   .shadowRoot.querySelector ('# kết nối')\n",
    "   .nhấp chuột()\n",
    "}\n",
    "setInterval (ClickConnect, 60000)\n",
    "```\n",
    "Có vẻ như thế này, nó sẽ nhấp vào màn hình 10 phút một lần để bạn không bị khởi động vì nhàn rỗi! HACKS!"
   ]
  },
  {
   "cell_type": "code",
   "execution_count": null,
   "metadata": {},
   "outputs": [],
   "source": [
    "# train your custom detector! (uncomment %%capture below if you run into memory issues or your Colab is crashing)\n",
    "# %%capture\n",
    "!./darknet detector train data/obj.data cfg/yolov4-obj.cfg yolov4.conv.137 -dont_show -map"
   ]
  },
  {
   "cell_type": "markdown",
   "metadata": {},
   "source": [
    "Sau khi đào tạo, bạn có thể quan sát biểu đồ về cách mô hình của bạn đã làm trong suốt quá trình đào tạo bằng cách chạy lệnh dưới đây. Nó hiển thị biểu đồ về khoản lỗ trung bình của bạn so với số lần lặp lại. Để mô hình của bạn 'chính xác', bạn nên đặt mục tiêu mức lỗ dưới 2."
   ]
  },
  {
   "cell_type": "code",
   "execution_count": null,
   "metadata": {},
   "outputs": [],
   "source": [
    "# show chart.png of how custom object detector did with training\n",
    "imShow('chart.png')"
   ]
  },
  {
   "cell_type": "markdown",
   "metadata": {},
   "source": [
    "**TRICK**: Nếu vì lý do nào đó mà bạn gặp lỗi hoặc Colab của bạn không hoạt động trong quá trình tập luyện, bạn vẫn chưa bị mất mô hình và tạ đã tập một phần của mình! Cứ sau 100 lần lặp lại, một tệp weights có tên là yolov4-obj_last.weights được lưu vào thư mục mydrive / yolov4 / backup / (cho dù thư mục sao lưu của bạn ở đâu). Đây là lý do tại sao chúng tôi tạo thư mục này trong ổ đĩa Google của mình chứ không phải trên máy ảo đám mây. Nếu thời gian chạy của bạn gặp sự cố và thư mục sao lưu của bạn nằm trong máy ảo đám mây của bạn, bạn sẽ mất trọng lượng và tiến trình luyện tập của mình.\n",
    "\n",
    "Chúng ta có thể bắt đầu buổi tập từ tệp **weight** đã lưu cuối cùng của mình để không phải bắt đầu lại! WOOHOO! Chỉ cần chạy lệnh sau nhưng với vị trí sao lưu của bạn."
   ]
  },
  {
   "cell_type": "code",
   "execution_count": null,
   "metadata": {},
   "outputs": [],
   "source": [
    "# kick off training from where it last saved\n",
    "!./darknet detector train data/obj.data cfg/yolov4-obj.cfg /mydrive/yolov4/backup/yolov4-obj_last.weights -dont_show"
   ]
  },
  {
   "cell_type": "markdown",
   "metadata": {},
   "source": [
    "## Bước 6: Kiểm tra độ chính xác trung bình trung bình (mAP) của mô hình của bạn\n",
    "Nếu bạn không chạy đào tạo với flag '-map' được thêm vào thì bạn vẫn có thể tìm ra mAP của mô hình của mình sau khi đào tạo. Chạy lệnh sau trên bất kỳ trọng lượng nào đã lưu từ khóa đào tạo để xem giá trị mAP cho tệp của weight cụ thể đó. Tôi khuyên bạn nên chạy nó trên nhiều weight đã lưu để so sánh và tìm các weight có mAP cao nhất vì đó là weight chính xác nhất!\n",
    "\n",
    "LƯU Ý: Nếu bạn cho rằng tệp trọng số cuối cùng của mình đã được trang bị quá mức thì điều quan trọng là phải chạy các lệnh mAP này để xem liệu một trong các weight đã lưu trước đó có phải là mô hình chính xác hơn cho các lớp của bạn hay không."
   ]
  },
  {
   "cell_type": "code",
   "execution_count": null,
   "metadata": {},
   "outputs": [],
   "source": [
    "!./darknet detector map data/obj.data cfg/yolov4-obj.cfg /mydrive/yolov4/backup/yolov4-obj_1000.weights"
   ]
  },
  {
   "cell_type": "markdown",
   "metadata": {},
   "source": [
    "## Bước 7: Run Your Custom Object Detector!!!\n",
    "Bạn đã làm xong việc đó! Bây giờ bạn có một yolov4 tùy chỉnh để thực hiện các phát hiện của riêng bạn. Đã đến lúc thử nghiệm và vui chơi!"
   ]
  },
  {
   "cell_type": "code",
   "execution_count": null,
   "metadata": {},
   "outputs": [],
   "source": [
    "# need to set our custom cfg to test mode \n",
    "%cd cfg\n",
    "!sed -i 's/batch=64/batch=1/' yolov4-obj.cfg\n",
    "!sed -i 's/subdivisions=16/subdivisions=1/' yolov4-obj.cfg\n",
    "%cd .."
   ]
  },
  {
   "cell_type": "code",
   "execution_count": null,
   "metadata": {},
   "outputs": [],
   "source": [
    "# run your custom detector with this command (upload an image to your google drive to test, thresh flag sets accuracy that detection must be in order to show it)\n",
    "!./darknet detector test data/obj.data cfg/yolov4-obj.cfg /mydrive/yolov4/backup/yolov4-obj_last.weights /mydrive/images/car2.jpg -thresh 0.3\n",
    "imShow('predictions.jpg')"
   ]
  },
  {
   "cell_type": "markdown",
   "metadata": {},
   "source": [
    "# Source\n",
    "1. [YOLOv4 in the CLOUD: Build and Train Custom Object Detector (FREE GPU)](https://www.youtube.com/watch?v=mmj3nxGT2YQ)\n",
    "2. [Google Colab](https://colab.research.google.com/drive/1_GdoqCJWXsChrOiY8sZMr_zbr_fH-0Fg?usp=sharing)"
   ]
  },
  {
   "cell_type": "code",
   "execution_count": null,
   "metadata": {},
   "outputs": [],
   "source": []
  }
 ],
 "metadata": {
  "kernelspec": {
   "display_name": "Python 3",
   "language": "python",
   "name": "python3"
  },
  "language_info": {
   "codemirror_mode": {
    "name": "ipython",
    "version": 3
   },
   "file_extension": ".py",
   "mimetype": "text/x-python",
   "name": "python",
   "nbconvert_exporter": "python",
   "pygments_lexer": "ipython3",
   "version": "3.8.3"
  }
 },
 "nbformat": 4,
 "nbformat_minor": 4
}
